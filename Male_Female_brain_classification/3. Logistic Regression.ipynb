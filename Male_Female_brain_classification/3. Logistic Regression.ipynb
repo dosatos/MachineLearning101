{
 "cells": [
  {
   "cell_type": "markdown",
   "metadata": {},
   "source": [
    "References: https://www.analyticsvidhya.com/blog/2015/08/comprehensive-guide-regression/ "
   ]
  },
  {
   "cell_type": "code",
   "execution_count": 8,
   "metadata": {},
   "outputs": [],
   "source": [
    "import os\n",
    "import pandas as pd\n",
    "import numpy as np\n",
    "\n",
    "import matplotlib.pyplot as plt\n",
    "import seaborn as sns\n",
    "\n",
    "from sklearn.linear_model import LogisticRegression\n",
    "from sklearn.model_selection import train_test_split"
   ]
  },
  {
   "cell_type": "markdown",
   "metadata": {},
   "source": [
    "Previously, we've seen how to use Linear Regression for Predictions"
   ]
  },
  {
   "cell_type": "markdown",
   "metadata": {},
   "source": [
    "## In this example we are going to work with the same dataset:\n",
    "__40 observations of people brain related indicators to predict if it belongs to a Male or Female.__ <br>\n",
    "Full Scale IQ (combines performance of the VCI, PRI, WMI, and PSI),<br> \n",
    "Verbal IQ (verbal comprehension and working memory),<br> \n",
    "Performance IQ (perceptual organization and processing speed) <br>\n",
    "Magnetic Resonance Imagine is used to determine the brain size of individuals."
   ]
  },
  {
   "cell_type": "code",
   "execution_count": 3,
   "metadata": {},
   "outputs": [
    {
     "data": {
      "text/html": [
       "<div>\n",
       "<style scoped>\n",
       "    .dataframe tbody tr th:only-of-type {\n",
       "        vertical-align: middle;\n",
       "    }\n",
       "\n",
       "    .dataframe tbody tr th {\n",
       "        vertical-align: top;\n",
       "    }\n",
       "\n",
       "    .dataframe thead th {\n",
       "        text-align: right;\n",
       "    }\n",
       "</style>\n",
       "<table border=\"1\" class=\"dataframe\">\n",
       "  <thead>\n",
       "    <tr style=\"text-align: right;\">\n",
       "      <th></th>\n",
       "      <th>Gender</th>\n",
       "      <th>FSIQ</th>\n",
       "      <th>VIQ</th>\n",
       "      <th>PIQ</th>\n",
       "      <th>Weight</th>\n",
       "      <th>Height</th>\n",
       "      <th>MRI_Count</th>\n",
       "    </tr>\n",
       "  </thead>\n",
       "  <tbody>\n",
       "    <tr>\n",
       "      <th>0</th>\n",
       "      <td>Female</td>\n",
       "      <td>133</td>\n",
       "      <td>132</td>\n",
       "      <td>124</td>\n",
       "      <td>118.0</td>\n",
       "      <td>64.5</td>\n",
       "      <td>816932</td>\n",
       "    </tr>\n",
       "    <tr>\n",
       "      <th>1</th>\n",
       "      <td>Male</td>\n",
       "      <td>140</td>\n",
       "      <td>150</td>\n",
       "      <td>124</td>\n",
       "      <td>NaN</td>\n",
       "      <td>72.5</td>\n",
       "      <td>1001121</td>\n",
       "    </tr>\n",
       "    <tr>\n",
       "      <th>2</th>\n",
       "      <td>Male</td>\n",
       "      <td>139</td>\n",
       "      <td>123</td>\n",
       "      <td>150</td>\n",
       "      <td>143.0</td>\n",
       "      <td>73.3</td>\n",
       "      <td>1038437</td>\n",
       "    </tr>\n",
       "    <tr>\n",
       "      <th>3</th>\n",
       "      <td>Male</td>\n",
       "      <td>133</td>\n",
       "      <td>129</td>\n",
       "      <td>128</td>\n",
       "      <td>172.0</td>\n",
       "      <td>68.8</td>\n",
       "      <td>965353</td>\n",
       "    </tr>\n",
       "    <tr>\n",
       "      <th>4</th>\n",
       "      <td>Female</td>\n",
       "      <td>137</td>\n",
       "      <td>132</td>\n",
       "      <td>134</td>\n",
       "      <td>147.0</td>\n",
       "      <td>65.0</td>\n",
       "      <td>951545</td>\n",
       "    </tr>\n",
       "  </tbody>\n",
       "</table>\n",
       "</div>"
      ],
      "text/plain": [
       "   Gender  FSIQ  VIQ  PIQ  Weight  Height  MRI_Count\n",
       "0  Female   133  132  124   118.0    64.5     816932\n",
       "1    Male   140  150  124     NaN    72.5    1001121\n",
       "2    Male   139  123  150   143.0    73.3    1038437\n",
       "3    Male   133  129  128   172.0    68.8     965353\n",
       "4  Female   137  132  134   147.0    65.0     951545"
      ]
     },
     "execution_count": 3,
     "metadata": {},
     "output_type": "execute_result"
    }
   ],
   "source": [
    "file_name = 'brain_size.csv'\n",
    "path = os.getcwd() + '/../Datasets/' + file_name\n",
    "data = pd.read_csv(path, na_values=\".\")#, sep=';', na_values=\".\")\n",
    "data.head()"
   ]
  },
  {
   "cell_type": "code",
   "execution_count": 4,
   "metadata": {},
   "outputs": [
    {
     "name": "stdout",
     "output_type": "stream",
     "text": [
      "(40, 7)\n"
     ]
    },
    {
     "data": {
      "text/html": [
       "<div>\n",
       "<style scoped>\n",
       "    .dataframe tbody tr th:only-of-type {\n",
       "        vertical-align: middle;\n",
       "    }\n",
       "\n",
       "    .dataframe tbody tr th {\n",
       "        vertical-align: top;\n",
       "    }\n",
       "\n",
       "    .dataframe thead th {\n",
       "        text-align: right;\n",
       "    }\n",
       "</style>\n",
       "<table border=\"1\" class=\"dataframe\">\n",
       "  <thead>\n",
       "    <tr style=\"text-align: right;\">\n",
       "      <th></th>\n",
       "      <th>Gender</th>\n",
       "      <th>FSIQ</th>\n",
       "      <th>VIQ</th>\n",
       "      <th>PIQ</th>\n",
       "      <th>Weight</th>\n",
       "      <th>Height</th>\n",
       "      <th>MRI_Count</th>\n",
       "    </tr>\n",
       "  </thead>\n",
       "  <tbody>\n",
       "    <tr>\n",
       "      <th>1</th>\n",
       "      <td>1</td>\n",
       "      <td>140</td>\n",
       "      <td>150</td>\n",
       "      <td>124</td>\n",
       "      <td>166.444444</td>\n",
       "      <td>72.5</td>\n",
       "      <td>1001121</td>\n",
       "    </tr>\n",
       "    <tr>\n",
       "      <th>2</th>\n",
       "      <td>1</td>\n",
       "      <td>139</td>\n",
       "      <td>123</td>\n",
       "      <td>150</td>\n",
       "      <td>143.000000</td>\n",
       "      <td>73.3</td>\n",
       "      <td>1038437</td>\n",
       "    </tr>\n",
       "    <tr>\n",
       "      <th>3</th>\n",
       "      <td>1</td>\n",
       "      <td>133</td>\n",
       "      <td>129</td>\n",
       "      <td>128</td>\n",
       "      <td>172.000000</td>\n",
       "      <td>68.8</td>\n",
       "      <td>965353</td>\n",
       "    </tr>\n",
       "    <tr>\n",
       "      <th>8</th>\n",
       "      <td>1</td>\n",
       "      <td>89</td>\n",
       "      <td>93</td>\n",
       "      <td>84</td>\n",
       "      <td>134.000000</td>\n",
       "      <td>66.3</td>\n",
       "      <td>904858</td>\n",
       "    </tr>\n",
       "    <tr>\n",
       "      <th>9</th>\n",
       "      <td>1</td>\n",
       "      <td>133</td>\n",
       "      <td>114</td>\n",
       "      <td>147</td>\n",
       "      <td>172.000000</td>\n",
       "      <td>68.8</td>\n",
       "      <td>955466</td>\n",
       "    </tr>\n",
       "  </tbody>\n",
       "</table>\n",
       "</div>"
      ],
      "text/plain": [
       "   Gender  FSIQ  VIQ  PIQ      Weight  Height  MRI_Count\n",
       "1       1   140  150  124  166.444444    72.5    1001121\n",
       "2       1   139  123  150  143.000000    73.3    1038437\n",
       "3       1   133  129  128  172.000000    68.8     965353\n",
       "8       1    89   93   84  134.000000    66.3     904858\n",
       "9       1   133  114  147  172.000000    68.8     955466"
      ]
     },
     "execution_count": 4,
     "metadata": {},
     "output_type": "execute_result"
    }
   ],
   "source": [
    "data.Gender = data.Gender.astype('category')\n",
    "data.Gender = data.Gender.cat.codes\n",
    "male = data[data.Gender == 1]\n",
    "female = data[data.Gender == 0]\n",
    "\n",
    "male = male.fillna(male.mean())\n",
    "female = female.fillna(female.mean())\n",
    "\n",
    "data = pd.concat([male, female])\n",
    "print(data.shape)\n",
    "data.head()"
   ]
  },
  {
   "cell_type": "markdown",
   "metadata": {},
   "source": [
    "### Let's apply Logistic Regression Model"
   ]
  },
  {
   "cell_type": "markdown",
   "metadata": {},
   "source": [
    "Let's recall what our data looks like <br>\n",
    "(I skip plotting the non-representative features) <br>"
   ]
  },
  {
   "cell_type": "code",
   "execution_count": 107,
   "metadata": {},
   "outputs": [
    {
     "data": {
      "image/png": "[encoded data removed]",
      "text/plain": [
       "<matplotlib.figure.Figure at 0x1a1b7f7c50>"
      ]
     },
     "metadata": {},
     "output_type": "display_data"
    }
   ],
   "source": [
    "cols = ['Gender', 'Weight', 'MRI_Count', 'Height']\n",
    "df = data[cols]\n",
    "\n",
    "graph = sns.pairplot(df, markers=[\".\", 'x'],\n",
    "                     hue='Gender')"
   ]
  },
  {
   "cell_type": "markdown",
   "metadata": {},
   "source": [
    "Now lets see how Logistic Regression Looks like within our dataset context"
   ]
  },
  {
   "cell_type": "code",
   "execution_count": 7,
   "metadata": {},
   "outputs": [
    {
     "name": "stderr",
     "output_type": "stream",
     "text": [
      "/Users/yeldosbalgabekov/anaconda2/envs/py35/lib/python3.6/site-packages/statsmodels/genmod/families/links.py:168: RuntimeWarning: overflow encountered in exp\n",
      "  t = np.exp(-z)\n"
     ]
    },
    {
     "data": {
      "image/png": "[encoded data removed]",
      "text/plain": [
       "<matplotlib.figure.Figure at 0x1a1abe92e8>"
      ]
     },
     "metadata": {},
     "output_type": "display_data"
    }
   ],
   "source": [
    "cols = ['Gender', 'Weight', 'MRI_Count', 'Height']\n",
    "df = data[cols]\n",
    "\n",
    "plt.figure(figsize=(15, 5))\n",
    "\n",
    "for idx, col in enumerate(['Weight', 'MRI_Count', 'Height']):\n",
    "    plt.ylim(0,1)\n",
    "    plt.subplot('13{}'.format(idx+1))\n",
    "    sns.regplot(x=col, y=\"Gender\", data=df, logistic=True)"
   ]
  },
  {
   "cell_type": "markdown",
   "metadata": {},
   "source": [
    "On the above figures we can see a Logistic Regression model behaviour. So we can use \"above/below\" thresholds for decision making."
   ]
  },
  {
   "cell_type": "markdown",
   "metadata": {},
   "source": [
    "It differs from Linear Models by its curviness as well as bottom and top caps, which makes it more suitable for our case."
   ]
  },
  {
   "cell_type": "markdown",
   "metadata": {},
   "source": [
    "Let's split the data into training and testing sets"
   ]
  },
  {
   "cell_type": "code",
   "execution_count": 10,
   "metadata": {},
   "outputs": [
    {
     "name": "stdout",
     "output_type": "stream",
     "text": [
      "Average Accuracy: 56.125%\n"
     ]
    }
   ],
   "source": [
    "cols = ['Gender', 'Weight', 'MRI_Count', 'Height']\n",
    "df = data[cols]\n",
    "\n",
    "accs = []\n",
    "\n",
    "# lets take the average accuracy of 500 iterations\n",
    "for i in range(500):\n",
    "    train, test = train_test_split(df, test_size=0.2)\n",
    "    x_train, y_train = train.iloc[:, 1:], train.iloc[:, 0]\n",
    "    x_test, y_test = test.iloc[:, 1:], test.iloc[:, 0]\n",
    "\n",
    "    # Use sklearn's Linear Regression model\n",
    "    model = LogisticRegression()\n",
    "    model.fit(x_train, y_train)\n",
    "    prediction = model.predict(x_test)\n",
    "    prediction = [1 if label >= 0.5 else 0 for label in prediction]\n",
    "    acc = sum(prediction == y_test)/len(y_test)*100\n",
    "    accs.append(acc)\n",
    "res = sum(accs) / len(accs)\n",
    "print(\"Average Accuracy: {}%\".format(res))"
   ]
  },
  {
   "cell_type": "markdown",
   "metadata": {},
   "source": [
    "### Let's Check if there is a difference using one, two, three features"
   ]
  },
  {
   "cell_type": "code",
   "execution_count": 13,
   "metadata": {},
   "outputs": [],
   "source": [
    "df = data[['Gender', 'Weight', 'MRI_Count', 'Height']]\n",
    "accs = {i: [] for i in range(7)}\n",
    "scenarios = [['Weight', 'MRI_Count', 'Height'], \n",
    "                ['Weight', 'MRI_Count'], \n",
    "                ['Weight', 'Height'], \n",
    "                ['MRI_Count', 'Height'], \n",
    "                ['Weight'], \n",
    "                ['MRI_Count'], \n",
    "                ['Height']]\n",
    "\n",
    "for i in range(500):\n",
    "    train, test = train_test_split(df, test_size=0.2)\n",
    "    for idx, cols in enumerate(scenarios):\n",
    "        \n",
    "        # the average accuracy of 100 iterations\n",
    "        x_train, y_train = train[cols], train['Gender']\n",
    "        x_test, y_test = test[cols], test['Gender']\n",
    "\n",
    "        # Use sklearn's Linear Regression model\n",
    "        model = LogisticRegression()\n",
    "        model.fit(x_train, y_train)\n",
    "        prediction = model.predict(x_test)\n",
    "        prediction = [1 if label >= 0.5 else 0 for label in prediction]\n",
    "        \n",
    "        acc = sum(prediction == y_test)/len(y_test)*100\n",
    "        accs[idx].append(acc)"
   ]
  },
  {
   "cell_type": "code",
   "execution_count": 14,
   "metadata": {},
   "outputs": [
    {
     "name": "stdout",
     "output_type": "stream",
     "text": [
      "0 ['Weight', 'MRI_Count', 'Height']\n",
      "1 ['Weight', 'MRI_Count']\n",
      "2 ['Weight', 'Height']\n",
      "3 ['MRI_Count', 'Height']\n",
      "4 ['Weight']\n",
      "5 ['MRI_Count']\n",
      "6 ['Height']\n"
     ]
    },
    {
     "data": {
      "text/html": [
       "<div>\n",
       "<style scoped>\n",
       "    .dataframe tbody tr th:only-of-type {\n",
       "        vertical-align: middle;\n",
       "    }\n",
       "\n",
       "    .dataframe tbody tr th {\n",
       "        vertical-align: top;\n",
       "    }\n",
       "\n",
       "    .dataframe thead th {\n",
       "        text-align: right;\n",
       "    }\n",
       "</style>\n",
       "<table border=\"1\" class=\"dataframe\">\n",
       "  <thead>\n",
       "    <tr style=\"text-align: right;\">\n",
       "      <th></th>\n",
       "      <th>0</th>\n",
       "      <th>1</th>\n",
       "      <th>2</th>\n",
       "      <th>3</th>\n",
       "      <th>4</th>\n",
       "      <th>5</th>\n",
       "      <th>6</th>\n",
       "    </tr>\n",
       "  </thead>\n",
       "  <tbody>\n",
       "    <tr>\n",
       "      <th>count</th>\n",
       "      <td>500.000000</td>\n",
       "      <td>500.000000</td>\n",
       "      <td>500.00000</td>\n",
       "      <td>500.000000</td>\n",
       "      <td>500.000000</td>\n",
       "      <td>500.000000</td>\n",
       "      <td>500.000000</td>\n",
       "    </tr>\n",
       "    <tr>\n",
       "      <th>mean</th>\n",
       "      <td>57.450000</td>\n",
       "      <td>56.625000</td>\n",
       "      <td>69.27500</td>\n",
       "      <td>40.000000</td>\n",
       "      <td>60.300000</td>\n",
       "      <td>38.025000</td>\n",
       "      <td>41.375000</td>\n",
       "    </tr>\n",
       "    <tr>\n",
       "      <th>std</th>\n",
       "      <td>18.780386</td>\n",
       "      <td>18.664635</td>\n",
       "      <td>14.93261</td>\n",
       "      <td>11.817542</td>\n",
       "      <td>18.050253</td>\n",
       "      <td>9.949113</td>\n",
       "      <td>12.423992</td>\n",
       "    </tr>\n",
       "    <tr>\n",
       "      <th>min</th>\n",
       "      <td>12.500000</td>\n",
       "      <td>12.500000</td>\n",
       "      <td>25.00000</td>\n",
       "      <td>12.500000</td>\n",
       "      <td>12.500000</td>\n",
       "      <td>12.500000</td>\n",
       "      <td>12.500000</td>\n",
       "    </tr>\n",
       "    <tr>\n",
       "      <th>25%</th>\n",
       "      <td>50.000000</td>\n",
       "      <td>50.000000</td>\n",
       "      <td>62.50000</td>\n",
       "      <td>37.500000</td>\n",
       "      <td>50.000000</td>\n",
       "      <td>37.500000</td>\n",
       "      <td>37.500000</td>\n",
       "    </tr>\n",
       "    <tr>\n",
       "      <th>50%</th>\n",
       "      <td>62.500000</td>\n",
       "      <td>62.500000</td>\n",
       "      <td>75.00000</td>\n",
       "      <td>37.500000</td>\n",
       "      <td>62.500000</td>\n",
       "      <td>37.500000</td>\n",
       "      <td>37.500000</td>\n",
       "    </tr>\n",
       "    <tr>\n",
       "      <th>75%</th>\n",
       "      <td>75.000000</td>\n",
       "      <td>75.000000</td>\n",
       "      <td>75.00000</td>\n",
       "      <td>50.000000</td>\n",
       "      <td>75.000000</td>\n",
       "      <td>50.000000</td>\n",
       "      <td>50.000000</td>\n",
       "    </tr>\n",
       "    <tr>\n",
       "      <th>max</th>\n",
       "      <td>100.000000</td>\n",
       "      <td>100.000000</td>\n",
       "      <td>100.00000</td>\n",
       "      <td>75.000000</td>\n",
       "      <td>100.000000</td>\n",
       "      <td>62.500000</td>\n",
       "      <td>75.000000</td>\n",
       "    </tr>\n",
       "  </tbody>\n",
       "</table>\n",
       "</div>"
      ],
      "text/plain": [
       "                0           1          2           3           4           5  \\\n",
       "count  500.000000  500.000000  500.00000  500.000000  500.000000  500.000000   \n",
       "mean    57.450000   56.625000   69.27500   40.000000   60.300000   38.025000   \n",
       "std     18.780386   18.664635   14.93261   11.817542   18.050253    9.949113   \n",
       "min     12.500000   12.500000   25.00000   12.500000   12.500000   12.500000   \n",
       "25%     50.000000   50.000000   62.50000   37.500000   50.000000   37.500000   \n",
       "50%     62.500000   62.500000   75.00000   37.500000   62.500000   37.500000   \n",
       "75%     75.000000   75.000000   75.00000   50.000000   75.000000   50.000000   \n",
       "max    100.000000  100.000000  100.00000   75.000000  100.000000   62.500000   \n",
       "\n",
       "                6  \n",
       "count  500.000000  \n",
       "mean    41.375000  \n",
       "std     12.423992  \n",
       "min     12.500000  \n",
       "25%     37.500000  \n",
       "50%     37.500000  \n",
       "75%     50.000000  \n",
       "max     75.000000  "
      ]
     },
     "execution_count": 14,
     "metadata": {},
     "output_type": "execute_result"
    }
   ],
   "source": [
    "accs1 = pd.DataFrame.from_dict(accs)\n",
    "for idx, cols in enumerate(scenarios):\n",
    "    print(idx, cols)\n",
    "accs1.describe()"
   ]
  },
  {
   "cell_type": "markdown",
   "metadata": {},
   "source": [
    "So we can see that the highest result shows Weight + Height features, with std 11.22"
   ]
  },
  {
   "cell_type": "markdown",
   "metadata": {},
   "source": [
    "### Can we improve the results even higher"
   ]
  },
  {
   "cell_type": "markdown",
   "metadata": {},
   "source": [
    "We can see that Weight ranges from min 106 to max 192, and Height from min 62 to max 77. <br>\n"
   ]
  },
  {
   "cell_type": "markdown",
   "metadata": {},
   "source": [
    "Let's normalise the data (min max scaler)"
   ]
  },
  {
   "cell_type": "code",
   "execution_count": 15,
   "metadata": {},
   "outputs": [
    {
     "data": {
      "text/html": [
       "<div>\n",
       "<style scoped>\n",
       "    .dataframe tbody tr th:only-of-type {\n",
       "        vertical-align: middle;\n",
       "    }\n",
       "\n",
       "    .dataframe tbody tr th {\n",
       "        vertical-align: top;\n",
       "    }\n",
       "\n",
       "    .dataframe thead th {\n",
       "        text-align: right;\n",
       "    }\n",
       "</style>\n",
       "<table border=\"1\" class=\"dataframe\">\n",
       "  <thead>\n",
       "    <tr style=\"text-align: right;\">\n",
       "      <th></th>\n",
       "      <th>Gender</th>\n",
       "      <th>Weight</th>\n",
       "      <th>MRI_Count</th>\n",
       "      <th>Height</th>\n",
       "    </tr>\n",
       "  </thead>\n",
       "  <tbody>\n",
       "    <tr>\n",
       "      <th>count</th>\n",
       "      <td>40.00000</td>\n",
       "      <td>40.000000</td>\n",
       "      <td>40.000000</td>\n",
       "      <td>40.000000</td>\n",
       "    </tr>\n",
       "    <tr>\n",
       "      <th>mean</th>\n",
       "      <td>0.50000</td>\n",
       "      <td>0.532817</td>\n",
       "      <td>0.408874</td>\n",
       "      <td>0.439886</td>\n",
       "    </tr>\n",
       "    <tr>\n",
       "      <th>std</th>\n",
       "      <td>0.50637</td>\n",
       "      <td>0.268832</td>\n",
       "      <td>0.250171</td>\n",
       "      <td>0.264652</td>\n",
       "    </tr>\n",
       "    <tr>\n",
       "      <th>min</th>\n",
       "      <td>0.00000</td>\n",
       "      <td>0.000000</td>\n",
       "      <td>0.000000</td>\n",
       "      <td>0.000000</td>\n",
       "    </tr>\n",
       "    <tr>\n",
       "      <th>25%</th>\n",
       "      <td>0.00000</td>\n",
       "      <td>0.345930</td>\n",
       "      <td>0.226005</td>\n",
       "      <td>0.266667</td>\n",
       "    </tr>\n",
       "    <tr>\n",
       "      <th>50%</th>\n",
       "      <td>0.50000</td>\n",
       "      <td>0.482558</td>\n",
       "      <td>0.397259</td>\n",
       "      <td>0.416667</td>\n",
       "    </tr>\n",
       "    <tr>\n",
       "      <th>75%</th>\n",
       "      <td>1.00000</td>\n",
       "      <td>0.767442</td>\n",
       "      <td>0.551895</td>\n",
       "      <td>0.582193</td>\n",
       "    </tr>\n",
       "    <tr>\n",
       "      <th>max</th>\n",
       "      <td>1.00000</td>\n",
       "      <td>1.000000</td>\n",
       "      <td>1.000000</td>\n",
       "      <td>1.000000</td>\n",
       "    </tr>\n",
       "  </tbody>\n",
       "</table>\n",
       "</div>"
      ],
      "text/plain": [
       "         Gender     Weight  MRI_Count     Height\n",
       "count  40.00000  40.000000  40.000000  40.000000\n",
       "mean    0.50000   0.532817   0.408874   0.439886\n",
       "std     0.50637   0.268832   0.250171   0.264652\n",
       "min     0.00000   0.000000   0.000000   0.000000\n",
       "25%     0.00000   0.345930   0.226005   0.266667\n",
       "50%     0.50000   0.482558   0.397259   0.416667\n",
       "75%     1.00000   0.767442   0.551895   0.582193\n",
       "max     1.00000   1.000000   1.000000   1.000000"
      ]
     },
     "execution_count": 15,
     "metadata": {},
     "output_type": "execute_result"
    }
   ],
   "source": [
    "df = (df - df.min()) / (df.max()-df.min())\n",
    "df.describe()"
   ]
  },
  {
   "cell_type": "code",
   "execution_count": 20,
   "metadata": {},
   "outputs": [],
   "source": [
    "df = data[['Gender', 'Weight', 'MRI_Count', 'Height']]\n",
    "df = (df - df.min()) / (df.max()-df.min())\n",
    "accs = {i: [] for i in range(7)}\n",
    "scenarios = [['Weight', 'MRI_Count', 'Height'], \n",
    "                ['Weight', 'MRI_Count'], \n",
    "                ['Weight', 'Height'], \n",
    "                ['MRI_Count', 'Height'], \n",
    "                ['Weight'], \n",
    "                ['MRI_Count'], \n",
    "                ['Height']]\n",
    "\n",
    "for i in range(500):\n",
    "    train, test = train_test_split(df, test_size=0.2)\n",
    "    for idx, cols in enumerate(scenarios):\n",
    "        \n",
    "        # the average accuracy of 100 iterations\n",
    "        x_train, y_train = train[cols], train['Gender']\n",
    "        x_test, y_test = test[cols], test['Gender']\n",
    "\n",
    "        # Use sklearn's Linear Regression model\n",
    "        model = LogisticRegression()\n",
    "        model.fit(x_train, y_train)\n",
    "        prediction = model.predict(x_test)\n",
    "        prediction = [1 if label >= 0.5 else 0 for label in prediction]\n",
    "        \n",
    "        acc = sum(prediction == y_test)/len(y_test)*100\n",
    "        accs[idx].append(acc)"
   ]
  },
  {
   "cell_type": "code",
   "execution_count": 21,
   "metadata": {},
   "outputs": [
    {
     "name": "stdout",
     "output_type": "stream",
     "text": [
      "0 ['Weight', 'MRI_Count', 'Height']\n",
      "1 ['Weight', 'MRI_Count']\n",
      "2 ['Weight', 'Height']\n",
      "3 ['MRI_Count', 'Height']\n",
      "4 ['Weight']\n",
      "5 ['MRI_Count']\n",
      "6 ['Height']\n"
     ]
    },
    {
     "data": {
      "text/html": [
       "<div>\n",
       "<style scoped>\n",
       "    .dataframe tbody tr th:only-of-type {\n",
       "        vertical-align: middle;\n",
       "    }\n",
       "\n",
       "    .dataframe tbody tr th {\n",
       "        vertical-align: top;\n",
       "    }\n",
       "\n",
       "    .dataframe thead th {\n",
       "        text-align: right;\n",
       "    }\n",
       "</style>\n",
       "<table border=\"1\" class=\"dataframe\">\n",
       "  <thead>\n",
       "    <tr style=\"text-align: right;\">\n",
       "      <th></th>\n",
       "      <th>0</th>\n",
       "      <th>1</th>\n",
       "      <th>2</th>\n",
       "      <th>3</th>\n",
       "      <th>4</th>\n",
       "      <th>5</th>\n",
       "      <th>6</th>\n",
       "    </tr>\n",
       "  </thead>\n",
       "  <tbody>\n",
       "    <tr>\n",
       "      <th>count</th>\n",
       "      <td>500.000000</td>\n",
       "      <td>500.000000</td>\n",
       "      <td>500.00000</td>\n",
       "      <td>500.000000</td>\n",
       "      <td>500.000000</td>\n",
       "      <td>500.000000</td>\n",
       "      <td>500.000000</td>\n",
       "    </tr>\n",
       "    <tr>\n",
       "      <th>mean</th>\n",
       "      <td>81.025000</td>\n",
       "      <td>77.100000</td>\n",
       "      <td>80.50000</td>\n",
       "      <td>82.725000</td>\n",
       "      <td>70.675000</td>\n",
       "      <td>76.625000</td>\n",
       "      <td>79.750000</td>\n",
       "    </tr>\n",
       "    <tr>\n",
       "      <th>std</th>\n",
       "      <td>13.852641</td>\n",
       "      <td>14.265237</td>\n",
       "      <td>15.29601</td>\n",
       "      <td>12.882888</td>\n",
       "      <td>16.515975</td>\n",
       "      <td>15.020756</td>\n",
       "      <td>14.654077</td>\n",
       "    </tr>\n",
       "    <tr>\n",
       "      <th>min</th>\n",
       "      <td>25.000000</td>\n",
       "      <td>25.000000</td>\n",
       "      <td>12.50000</td>\n",
       "      <td>37.500000</td>\n",
       "      <td>25.000000</td>\n",
       "      <td>12.500000</td>\n",
       "      <td>25.000000</td>\n",
       "    </tr>\n",
       "    <tr>\n",
       "      <th>25%</th>\n",
       "      <td>75.000000</td>\n",
       "      <td>62.500000</td>\n",
       "      <td>75.00000</td>\n",
       "      <td>75.000000</td>\n",
       "      <td>62.500000</td>\n",
       "      <td>62.500000</td>\n",
       "      <td>75.000000</td>\n",
       "    </tr>\n",
       "    <tr>\n",
       "      <th>50%</th>\n",
       "      <td>87.500000</td>\n",
       "      <td>75.000000</td>\n",
       "      <td>87.50000</td>\n",
       "      <td>87.500000</td>\n",
       "      <td>75.000000</td>\n",
       "      <td>75.000000</td>\n",
       "      <td>87.500000</td>\n",
       "    </tr>\n",
       "    <tr>\n",
       "      <th>75%</th>\n",
       "      <td>87.500000</td>\n",
       "      <td>87.500000</td>\n",
       "      <td>87.50000</td>\n",
       "      <td>87.500000</td>\n",
       "      <td>87.500000</td>\n",
       "      <td>87.500000</td>\n",
       "      <td>87.500000</td>\n",
       "    </tr>\n",
       "    <tr>\n",
       "      <th>max</th>\n",
       "      <td>100.000000</td>\n",
       "      <td>100.000000</td>\n",
       "      <td>100.00000</td>\n",
       "      <td>100.000000</td>\n",
       "      <td>100.000000</td>\n",
       "      <td>100.000000</td>\n",
       "      <td>100.000000</td>\n",
       "    </tr>\n",
       "  </tbody>\n",
       "</table>\n",
       "</div>"
      ],
      "text/plain": [
       "                0           1          2           3           4           5  \\\n",
       "count  500.000000  500.000000  500.00000  500.000000  500.000000  500.000000   \n",
       "mean    81.025000   77.100000   80.50000   82.725000   70.675000   76.625000   \n",
       "std     13.852641   14.265237   15.29601   12.882888   16.515975   15.020756   \n",
       "min     25.000000   25.000000   12.50000   37.500000   25.000000   12.500000   \n",
       "25%     75.000000   62.500000   75.00000   75.000000   62.500000   62.500000   \n",
       "50%     87.500000   75.000000   87.50000   87.500000   75.000000   75.000000   \n",
       "75%     87.500000   87.500000   87.50000   87.500000   87.500000   87.500000   \n",
       "max    100.000000  100.000000  100.00000  100.000000  100.000000  100.000000   \n",
       "\n",
       "                6  \n",
       "count  500.000000  \n",
       "mean    79.750000  \n",
       "std     14.654077  \n",
       "min     25.000000  \n",
       "25%     75.000000  \n",
       "50%     87.500000  \n",
       "75%     87.500000  \n",
       "max    100.000000  "
      ]
     },
     "execution_count": 21,
     "metadata": {},
     "output_type": "execute_result"
    }
   ],
   "source": [
    "accs2 = pd.DataFrame.from_dict(accs)\n",
    "for idx, cols in enumerate(scenarios):\n",
    "    print(idx, cols)\n",
    "accs2.describe()"
   ]
  }
 ],
 "metadata": {
  "kernelspec": {
   "display_name": "py35",
   "language": "python",
   "name": "py35"
  },
  "language_info": {
   "codemirror_mode": {
    "name": "ipython",
    "version": 3
   },
   "file_extension": ".py",
   "mimetype": "text/x-python",
   "name": "python",
   "nbconvert_exporter": "python",
   "pygments_lexer": "ipython3",
   "version": "3.6.4"
  }
 },
 "nbformat": 4,
 "nbformat_minor": 2
}
