{
 "cells": [
  {
   "cell_type": "markdown",
   "metadata": {},
   "source": [
    "References: https://www.analyticsvidhya.com/blog/2015/08/comprehensive-guide-regression/ "
   ]
  },
  {
   "cell_type": "code",
   "execution_count": 15,
   "metadata": {},
   "outputs": [],
   "source": [
    "import os\n",
    "import pandas as pd\n",
    "import numpy as np\n",
    "\n",
    "import matplotlib.pyplot as plt\n",
    "import seaborn as sns\n",
    "\n",
    "from sklearn.linear_model import LinearRegression, LogisticRegression\n",
    "from sklearn.svm import SVC, LinearSVC, LinearSVR\n",
    "from sklearn.naive_bayes import BernoulliNB, GaussianNB, MultinomialNB\n",
    "from sklearn.neural_network import MLPClassifier, MLPRegressor\n",
    "\n",
    "from sklearn.model_selection import train_test_split"
   ]
  },
  {
   "cell_type": "markdown",
   "metadata": {},
   "source": [
    "Let's compare several algorithms including non regression ones\n"
   ]
  },
  {
   "cell_type": "markdown",
   "metadata": {},
   "source": [
    "## In this example we are going to work with the same dataset:\n",
    "__40 observations of people brain related indicators to predict if it belongs to a Male or Female.__ <br>\n",
    "Full Scale IQ (combines performance of the VCI, PRI, WMI, and PSI),<br> \n",
    "Verbal IQ (verbal comprehension and working memory),<br> \n",
    "Performance IQ (perceptual organization and processing speed) <br>\n",
    "Magnetic Resonance Imagine is used to determine the brain size of individuals."
   ]
  },
  {
   "cell_type": "code",
   "execution_count": 16,
   "metadata": {},
   "outputs": [
    {
     "data": {
      "text/html": [
       "<div>\n",
       "<style scoped>\n",
       "    .dataframe tbody tr th:only-of-type {\n",
       "        vertical-align: middle;\n",
       "    }\n",
       "\n",
       "    .dataframe tbody tr th {\n",
       "        vertical-align: top;\n",
       "    }\n",
       "\n",
       "    .dataframe thead th {\n",
       "        text-align: right;\n",
       "    }\n",
       "</style>\n",
       "<table border=\"1\" class=\"dataframe\">\n",
       "  <thead>\n",
       "    <tr style=\"text-align: right;\">\n",
       "      <th></th>\n",
       "      <th>Gender</th>\n",
       "      <th>FSIQ</th>\n",
       "      <th>VIQ</th>\n",
       "      <th>PIQ</th>\n",
       "      <th>Weight</th>\n",
       "      <th>Height</th>\n",
       "      <th>MRI_Count</th>\n",
       "    </tr>\n",
       "  </thead>\n",
       "  <tbody>\n",
       "    <tr>\n",
       "      <th>0</th>\n",
       "      <td>Female</td>\n",
       "      <td>133</td>\n",
       "      <td>132</td>\n",
       "      <td>124</td>\n",
       "      <td>118.0</td>\n",
       "      <td>64.5</td>\n",
       "      <td>816932</td>\n",
       "    </tr>\n",
       "    <tr>\n",
       "      <th>1</th>\n",
       "      <td>Male</td>\n",
       "      <td>140</td>\n",
       "      <td>150</td>\n",
       "      <td>124</td>\n",
       "      <td>NaN</td>\n",
       "      <td>72.5</td>\n",
       "      <td>1001121</td>\n",
       "    </tr>\n",
       "    <tr>\n",
       "      <th>2</th>\n",
       "      <td>Male</td>\n",
       "      <td>139</td>\n",
       "      <td>123</td>\n",
       "      <td>150</td>\n",
       "      <td>143.0</td>\n",
       "      <td>73.3</td>\n",
       "      <td>1038437</td>\n",
       "    </tr>\n",
       "    <tr>\n",
       "      <th>3</th>\n",
       "      <td>Male</td>\n",
       "      <td>133</td>\n",
       "      <td>129</td>\n",
       "      <td>128</td>\n",
       "      <td>172.0</td>\n",
       "      <td>68.8</td>\n",
       "      <td>965353</td>\n",
       "    </tr>\n",
       "    <tr>\n",
       "      <th>4</th>\n",
       "      <td>Female</td>\n",
       "      <td>137</td>\n",
       "      <td>132</td>\n",
       "      <td>134</td>\n",
       "      <td>147.0</td>\n",
       "      <td>65.0</td>\n",
       "      <td>951545</td>\n",
       "    </tr>\n",
       "  </tbody>\n",
       "</table>\n",
       "</div>"
      ],
      "text/plain": [
       "   Gender  FSIQ  VIQ  PIQ  Weight  Height  MRI_Count\n",
       "0  Female   133  132  124   118.0    64.5     816932\n",
       "1    Male   140  150  124     NaN    72.5    1001121\n",
       "2    Male   139  123  150   143.0    73.3    1038437\n",
       "3    Male   133  129  128   172.0    68.8     965353\n",
       "4  Female   137  132  134   147.0    65.0     951545"
      ]
     },
     "execution_count": 16,
     "metadata": {},
     "output_type": "execute_result"
    }
   ],
   "source": [
    "file_name = 'brain_size.csv'\n",
    "path = os.getcwd() + '/../Datasets/' + file_name\n",
    "data = pd.read_csv(path, na_values=\".\")#, sep=';', na_values=\".\")\n",
    "data.head()"
   ]
  },
  {
   "cell_type": "code",
   "execution_count": 17,
   "metadata": {},
   "outputs": [
    {
     "name": "stdout",
     "output_type": "stream",
     "text": [
      "(40, 7)\n"
     ]
    },
    {
     "data": {
      "text/html": [
       "<div>\n",
       "<style scoped>\n",
       "    .dataframe tbody tr th:only-of-type {\n",
       "        vertical-align: middle;\n",
       "    }\n",
       "\n",
       "    .dataframe tbody tr th {\n",
       "        vertical-align: top;\n",
       "    }\n",
       "\n",
       "    .dataframe thead th {\n",
       "        text-align: right;\n",
       "    }\n",
       "</style>\n",
       "<table border=\"1\" class=\"dataframe\">\n",
       "  <thead>\n",
       "    <tr style=\"text-align: right;\">\n",
       "      <th></th>\n",
       "      <th>Gender</th>\n",
       "      <th>FSIQ</th>\n",
       "      <th>VIQ</th>\n",
       "      <th>PIQ</th>\n",
       "      <th>Weight</th>\n",
       "      <th>Height</th>\n",
       "      <th>MRI_Count</th>\n",
       "    </tr>\n",
       "  </thead>\n",
       "  <tbody>\n",
       "    <tr>\n",
       "      <th>1</th>\n",
       "      <td>1</td>\n",
       "      <td>140</td>\n",
       "      <td>150</td>\n",
       "      <td>124</td>\n",
       "      <td>166.444444</td>\n",
       "      <td>72.5</td>\n",
       "      <td>1001121</td>\n",
       "    </tr>\n",
       "    <tr>\n",
       "      <th>2</th>\n",
       "      <td>1</td>\n",
       "      <td>139</td>\n",
       "      <td>123</td>\n",
       "      <td>150</td>\n",
       "      <td>143.000000</td>\n",
       "      <td>73.3</td>\n",
       "      <td>1038437</td>\n",
       "    </tr>\n",
       "    <tr>\n",
       "      <th>3</th>\n",
       "      <td>1</td>\n",
       "      <td>133</td>\n",
       "      <td>129</td>\n",
       "      <td>128</td>\n",
       "      <td>172.000000</td>\n",
       "      <td>68.8</td>\n",
       "      <td>965353</td>\n",
       "    </tr>\n",
       "    <tr>\n",
       "      <th>8</th>\n",
       "      <td>1</td>\n",
       "      <td>89</td>\n",
       "      <td>93</td>\n",
       "      <td>84</td>\n",
       "      <td>134.000000</td>\n",
       "      <td>66.3</td>\n",
       "      <td>904858</td>\n",
       "    </tr>\n",
       "    <tr>\n",
       "      <th>9</th>\n",
       "      <td>1</td>\n",
       "      <td>133</td>\n",
       "      <td>114</td>\n",
       "      <td>147</td>\n",
       "      <td>172.000000</td>\n",
       "      <td>68.8</td>\n",
       "      <td>955466</td>\n",
       "    </tr>\n",
       "  </tbody>\n",
       "</table>\n",
       "</div>"
      ],
      "text/plain": [
       "   Gender  FSIQ  VIQ  PIQ      Weight  Height  MRI_Count\n",
       "1       1   140  150  124  166.444444    72.5    1001121\n",
       "2       1   139  123  150  143.000000    73.3    1038437\n",
       "3       1   133  129  128  172.000000    68.8     965353\n",
       "8       1    89   93   84  134.000000    66.3     904858\n",
       "9       1   133  114  147  172.000000    68.8     955466"
      ]
     },
     "execution_count": 17,
     "metadata": {},
     "output_type": "execute_result"
    }
   ],
   "source": [
    "data.Gender = data.Gender.astype('category')\n",
    "data.Gender = data.Gender.cat.codes\n",
    "male = data[data.Gender == 1]\n",
    "female = data[data.Gender == 0]\n",
    "\n",
    "male = male.fillna(male.mean())\n",
    "female = female.fillna(female.mean())\n",
    "\n",
    "data = pd.concat([male, female])\n",
    "print(data.shape)\n",
    "data.head()"
   ]
  },
  {
   "cell_type": "markdown",
   "metadata": {},
   "source": [
    "### Let's apply Logistic Regression Model"
   ]
  },
  {
   "cell_type": "markdown",
   "metadata": {},
   "source": [
    "Let's recall what our data looks like <br>\n",
    "(I skip plotting the non-representative features) <br>"
   ]
  },
  {
   "cell_type": "code",
   "execution_count": 18,
   "metadata": {},
   "outputs": [
    {
     "data": {
      "image/png": "[encoded data removed]",
      "text/plain": [
       "<matplotlib.figure.Figure at 0x1a16ff3550>"
      ]
     },
     "metadata": {},
     "output_type": "display_data"
    }
   ],
   "source": [
    "cols = ['Gender', 'Weight', 'MRI_Count', 'Height']\n",
    "df = data[cols]\n",
    "\n",
    "graph = sns.pairplot(df, markers=[\".\", 'x'],\n",
    "                     hue='Gender')"
   ]
  },
  {
   "cell_type": "markdown",
   "metadata": {},
   "source": [
    "Now lets see how Logistic Regression Looks like within our dataset context"
   ]
  },
  {
   "cell_type": "markdown",
   "metadata": {},
   "source": [
    "Let's split the data into training and testing sets"
   ]
  },
  {
   "cell_type": "markdown",
   "metadata": {},
   "source": [
    "SVM Performce quite well with all three features to be considered"
   ]
  },
  {
   "cell_type": "code",
   "execution_count": 19,
   "metadata": {},
   "outputs": [
    {
     "name": "stdout",
     "output_type": "stream",
     "text": [
      "0 ['Weight', 'MRI_Count', 'Height']\n",
      "1 ['Weight', 'MRI_Count']\n",
      "2 ['Weight', 'Height']\n",
      "3 ['MRI_Count', 'Height']\n",
      "4 ['Weight']\n",
      "5 ['MRI_Count']\n",
      "6 ['Height']\n",
      "----- 0 <class 'sklearn.linear_model.base.LinearRegression'> -----\n",
      "[87.5, 80.875, 88.0, 87.5, 76.125, 79.5, 84.75]\n",
      "[11.650421590325529, 12.620004762361233, 10.193828594504687, 10.952145677879516, 15.085509637068977, 12.628131174868948, 11.994843168056121]\n",
      " \n",
      "----- 1 <class 'sklearn.linear_model.logistic.LogisticRegression'> -----\n",
      "[85.25, 79.8125, 84.4375, 85.0625, 73.25, 78.0, 81.8125]\n",
      "[12.262825303416442, 12.94299809737851, 13.350318301213592, 12.57499487996539, 15.195542853516795, 13.683886279803446, 14.440872123540261]\n",
      " \n",
      "----- 2 <class 'sklearn.svm.classes.SVC'> -----\n",
      "[85.75, 80.29166666666667, 84.75, 84.79166666666667, 74.29166666666667, 78.54166666666667, 81.66666666666667]\n",
      "[11.968639344520218, 12.671001465921584, 12.676018228414248, 12.540000102236954, 14.203281589663474, 13.884765738785765, 14.214866524990668]\n",
      " \n",
      "----- 3 <class 'sklearn.svm.classes.LinearSVC'> -----\n",
      "[85.9375, 80.21875, 85.46875, 84.78125, 74.4375, 78.46875, 82.28125]\n",
      "[11.836229745424264, 12.535624361507969, 12.141434615555507, 12.485541450043401, 13.98158809879661, 13.569496177226307, 13.813754847795275]\n",
      " \n",
      "----- 4 <class 'sklearn.svm.classes.LinearSVR'> -----\n",
      "[85.875, 79.975, 85.25, 85.0, 74.75, 77.925, 81.875]\n",
      "[12.060796018555425, 12.683991575390204, 12.25716019116597, 12.131337052334946, 14.065317853950736, 13.564655349454977, 13.612217303578417]\n",
      " \n",
      "----- 5 <class 'sklearn.naive_bayes.BernoulliNB'> -----\n",
      "[78.70833333333333, 72.625, 77.02083333333333, 77.16666666666667, 68.47916666666667, 71.125, 74.41666666666667]\n",
      "[20.424295588980925, 20.571574834025707, 21.975418410793417, 21.13221884574507, 19.419517985011183, 20.00586829600576, 21.17365331916899]\n",
      " \n",
      "----- 6 <class 'sklearn.naive_bayes.GaussianNB'> -----\n",
      "[79.625, 73.64285714285714, 78.5, 77.96428571428571, 69.5, 71.85714285714286, 75.44642857142857]\n",
      "[19.637553164219298, 19.84464750867372, 21.11815320641901, 20.306102000606167, 18.87908592995929, 19.21513301029455, 20.31420713557656]\n",
      " \n",
      "----- 7 <class 'sklearn.naive_bayes.MultinomialNB'> -----\n",
      "[74.609375, 69.09375, 74.046875, 72.6875, 65.4375, 67.5, 70.640625]\n",
      "[23.350707570423307, 22.580837090154898, 24.133727151377723, 23.90687436810939, 21.003363310144458, 21.67320430233872, 23.163534894211832]\n",
      " \n",
      "----- 8 <class 'sklearn.neural_network.multilayer_perceptron.MLPClassifier'> -----\n"
     ]
    },
    {
     "name": "stderr",
     "output_type": "stream",
     "text": [
      "/Users/yeldosbalgabekov/anaconda2/envs/py35/lib/python3.6/site-packages/sklearn/neural_network/multilayer_perceptron.py:564: ConvergenceWarning: Stochastic Optimizer: Maximum iterations (200) reached and the optimization hasn't converged yet.\n",
      "  % self.max_iter, ConvergenceWarning)\n"
     ]
    },
    {
     "name": "stdout",
     "output_type": "stream",
     "text": [
      "[75.98611111111111, 70.41666666666667, 75.34722222222223, 74.0, 66.54166666666667, 68.625, 71.83333333333333]\n",
      "[22.702397701326603, 22.02470425069006, 23.44401997022603, 23.115274312948305, 20.563317867333904, 21.138472627600336, 22.575112543249375]\n",
      " \n",
      "----- 9 <class 'sklearn.neural_network.multilayer_perceptron.MLPRegressor'> -----\n",
      "[76.9875, 71.5625, 76.6625, 75.1375, 67.3875, 69.5875, 72.95]\n",
      "[22.08945535290041, 21.586878817631025, 22.8399651435321, 22.507363798881062, 20.096267158447557, 20.692130340011186, 22.10143600478214]\n",
      " \n"
     ]
    }
   ],
   "source": [
    "df = data[['Gender', 'Weight', 'MRI_Count', 'Height']]\n",
    "df = (df - df.min()) / (df.max()-df.min())\n",
    "accs = {i: [] for i in range(7)}\n",
    "scenarios = [['Weight', 'MRI_Count', 'Height'], \n",
    "                ['Weight', 'MRI_Count'], \n",
    "                ['Weight', 'Height'], \n",
    "                ['MRI_Count', 'Height'], \n",
    "                ['Weight'], \n",
    "                ['MRI_Count'], \n",
    "                ['Height']]\n",
    "\n",
    "classifiers = [LinearRegression, LogisticRegression,\n",
    "                SVC, LinearSVC, LinearSVR,\n",
    "                BernoulliNB, GaussianNB, MultinomialNB, \n",
    "                MLPClassifier, MLPRegressor]\n",
    "\n",
    "names = ['LinearRegression', 'LogisticRegression',\n",
    "                'SVC', 'LinearSVC', 'LinearSVR',\n",
    "                'BernoulliNB', 'GaussianNB', 'MultinomialNB', \n",
    "                'MLPClassifier', 'MLPRegressor']\n",
    "\n",
    "for idx, cols in enumerate(scenarios):\n",
    "    print(idx, cols)\n",
    "\n",
    "for cls_idx, classifier in enumerate(classifiers):\n",
    "    print('-----', cls_idx, names[cls_idx], \"-----\")\n",
    "    try:\n",
    "        for i in range(100):\n",
    "            train, test = train_test_split(df, test_size=0.2)\n",
    "            for idx, cols in enumerate(scenarios):\n",
    "\n",
    "                # the average accuracy of 100 iterations\n",
    "                x_train, y_train = train[cols], train['Gender']\n",
    "                x_test, y_test = test[cols], test['Gender']\n",
    "\n",
    "                # Use sklearn's Linear Regression model\n",
    "                model = classifier()\n",
    "                model.fit(x_train, y_train)\n",
    "                prediction = model.predict(x_test)\n",
    "                prediction = [1 if label >= 0.5 else 0 for label in prediction]\n",
    "\n",
    "                acc = sum(prediction == y_test)/len(y_test)*100\n",
    "                accs[idx].append(acc)\n",
    "\n",
    "        accs2 = pd.DataFrame.from_dict(accs)\n",
    "        print(list(accs2.describe().iloc[1, :]))\n",
    "        print(list(accs2.describe().iloc[2, :]))\n",
    "    except Exception as err:\n",
    "        print(\"Error\", err)\n",
    "    print(' ')"
   ]
  },
  {
   "cell_type": "code",
   "execution_count": null,
   "metadata": {},
   "outputs": [],
   "source": []
  },
  {
   "cell_type": "code",
   "execution_count": null,
   "metadata": {},
   "outputs": [],
   "source": []
  }
 ],
 "metadata": {
  "kernelspec": {
   "display_name": "py35",
   "language": "python",
   "name": "py35"
  },
  "language_info": {
   "codemirror_mode": {
    "name": "ipython",
    "version": 3
   },
   "file_extension": ".py",
   "mimetype": "text/x-python",
   "name": "python",
   "nbconvert_exporter": "python",
   "pygments_lexer": "ipython3",
   "version": "3.6.4"
  }
 },
 "nbformat": 4,
 "nbformat_minor": 2
}
